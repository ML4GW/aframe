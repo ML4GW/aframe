{
 "cells": [
  {
   "cell_type": "code",
   "execution_count": 1,
   "metadata": {},
   "outputs": [],
   "source": [
    "from ledger.injections import LigoResponseSet\n",
    "import numpy as np"
   ]
  },
  {
   "cell_type": "code",
   "execution_count": 5,
   "metadata": {},
   "outputs": [
    {
     "name": "stdout",
     "output_type": "stream",
     "text": [
      "mass_1\n",
      "mass_2\n",
      "redshift\n",
      "psi\n",
      "a_1\n",
      "a_2\n",
      "tilt_1\n",
      "tilt_2\n",
      "phi_12\n",
      "phi_jl\n",
      "ra\n",
      "dec\n",
      "theta_jn\n",
      "phase\n",
      "gps_time\n",
      "shift\n",
      "snr\n",
      "sample_rate\n",
      "duration\n",
      "num_injections\n",
      "h1\n",
      "l1\n"
     ]
    }
   ],
   "source": [
    "for parameter in LigoResponseSet.__dataclass_fields__:\n",
    "    \n",
    "    print(parameter)"
   ]
  },
  {
   "cell_type": "code",
   "execution_count": null,
   "metadata": {},
   "outputs": [],
   "source": []
  }
 ],
 "metadata": {
  "kernelspec": {
   "display_name": "Python 3",
   "language": "python",
   "name": "python3"
  },
  "language_info": {
   "codemirror_mode": {
    "name": "ipython",
    "version": 3
   },
   "file_extension": ".py",
   "mimetype": "text/x-python",
   "name": "python",
   "nbconvert_exporter": "python",
   "pygments_lexer": "ipython3",
   "version": "3.9.18"
  },
  "orig_nbformat": 4
 },
 "nbformat": 4,
 "nbformat_minor": 2
}
