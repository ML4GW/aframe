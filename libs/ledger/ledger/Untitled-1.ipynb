{
 "cells": [
  {
   "cell_type": "code",
   "execution_count": 1,
   "metadata": {},
   "outputs": [],
   "source": [
    "import h5py\n",
    "import numpy as np\n",
    "import matplotlib.pyplot as plt\n",
    "from ledger.events import RecoveredInjectionSet, EventSet"
   ]
  },
  {
   "cell_type": "code",
   "execution_count": 9,
   "metadata": {},
   "outputs": [],
   "source": [
    "set = EventSet.read(\"/home/ethan.marx/aframe/aframev2/new-pipeline/run/infer/background.hdf5\")"
   ]
  },
  {
   "cell_type": "code",
   "execution_count": null,
   "metadata": {},
   "outputs": [],
   "source": []
  },
  {
   "cell_type": "code",
   "execution_count": 10,
   "metadata": {},
   "outputs": [],
   "source": [
    "with h5py.File(\"/home/ethan.marx/aframe/aframev2/new-pipeline/run/infer/foreground.hdf5\") as f:\n",
    "\n",
    "    times = f[\"parameters\"][\"gps_time\"][]\n",
    "    shifts = f[\"parameters\"][\"shift\"][:]"
   ]
  },
  {
   "cell_type": "code",
   "execution_count": 41,
   "metadata": {},
   "outputs": [],
   "source": [
    "with h5py.File(\"/home/ethan.marx/aframe/aframev2/new-pipeline/run/infer/tmp/output-1750/foreground.hdf5\") as f:\n",
    "    detection_stats = f[\"parameters\"][\"detection_statistic\"][:]\n",
    "    times = f[\"parameters\"][\"gps_time\"][:]\n",
    "    shifts = f[\"parameters\"][\"shift\"][:]"
   ]
  },
  {
   "cell_type": "code",
   "execution_count": 42,
   "metadata": {},
   "outputs": [],
   "source": [
    "args = np.argsort(times)\n",
    "times = times[args]"
   ]
  },
  {
   "cell_type": "code",
   "execution_count": 43,
   "metadata": {},
   "outputs": [
    {
     "data": {
      "text/plain": [
       "array([1.24307885e+09, 1.24307885e+09, 1.24307885e+09, ...,\n",
       "       1.24308694e+09, 1.24308694e+09, 1.24308694e+09])"
      ]
     },
     "execution_count": 43,
     "metadata": {},
     "output_type": "execute_result"
    }
   ],
   "source": [
    "times"
   ]
  },
  {
   "cell_type": "code",
   "execution_count": 44,
   "metadata": {},
   "outputs": [
    {
     "data": {
      "text/plain": [
       "array([-2.53605282, -2.53605282, -2.53605282, ..., -1.07035211,\n",
       "       -1.07035211, -1.07035211])"
      ]
     },
     "execution_count": 44,
     "metadata": {},
     "output_type": "execute_result"
    }
   ],
   "source": [
    "detection_stats[args]"
   ]
  },
  {
   "cell_type": "code",
   "execution_count": null,
   "metadata": {},
   "outputs": [],
   "source": []
  }
 ],
 "metadata": {
  "kernelspec": {
   "display_name": "aframe-sandbox",
   "language": "python",
   "name": "python3"
  },
  "language_info": {
   "codemirror_mode": {
    "name": "ipython",
    "version": 3
   },
   "file_extension": ".py",
   "mimetype": "text/x-python",
   "name": "python",
   "nbconvert_exporter": "python",
   "pygments_lexer": "ipython3",
   "version": "3.9.12"
  },
  "orig_nbformat": 4
 },
 "nbformat": 4,
 "nbformat_minor": 2
}
